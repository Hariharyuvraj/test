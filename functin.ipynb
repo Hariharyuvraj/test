{
 "cells": [
  {
   "cell_type": "markdown",
   "id": "7e008a54",
   "metadata": {},
   "source": [
    "## Python Practice"
   ]
  },
  {
   "cell_type": "code",
   "execution_count": 4,
   "id": "32d9c9f4",
   "metadata": {},
   "outputs": [
    {
     "name": "stdout",
     "output_type": "stream",
     "text": [
      "[50, 40, 30, 20, 10]\n"
     ]
    }
   ],
   "source": [
    "\n",
    "my_list = [10, 20, 30, 40, 50]\n",
    "my_list.reverse()\n",
    "print(my_list)"
   ]
  },
  {
   "cell_type": "code",
   "execution_count": 7,
   "id": "30b23685",
   "metadata": {},
   "outputs": [
    {
     "data": {
      "text/plain": [
       "[1, 2, 3, 4, 5, 6, 7, 8, 9]"
      ]
     },
     "execution_count": 7,
     "metadata": {},
     "output_type": "execute_result"
    }
   ],
   "source": [
    "l=[9,8,7,6,5,4,3,2,1]\n",
    "l.reverse()\n",
    "l"
   ]
  },
  {
   "cell_type": "code",
   "execution_count": 9,
   "id": "e12d2a5c",
   "metadata": {},
   "outputs": [
    {
     "name": "stdout",
     "output_type": "stream",
     "text": [
      "[9, 8, 7, 6, 5, 4, 3, 2, 1]\n"
     ]
    }
   ],
   "source": [
    "l=[1,2,3,4,5,6,7,8,9]\n",
    "l.reverse()\n",
    "print(l)"
   ]
  },
  {
   "cell_type": "code",
   "execution_count": 10,
   "id": "a7ec7692",
   "metadata": {},
   "outputs": [
    {
     "data": {
      "text/plain": [
       "9"
      ]
     },
     "execution_count": 10,
     "metadata": {},
     "output_type": "execute_result"
    }
   ],
   "source": [
    "l=[1,2,3,4,5,6,7,8,9]\n",
    "max(l)"
   ]
  },
  {
   "cell_type": "code",
   "execution_count": 11,
   "id": "25fa5460",
   "metadata": {},
   "outputs": [
    {
     "data": {
      "text/plain": [
       "1"
      ]
     },
     "execution_count": 11,
     "metadata": {},
     "output_type": "execute_result"
    }
   ],
   "source": [
    "min(l)"
   ]
  },
  {
   "cell_type": "code",
   "execution_count": null,
   "id": "d3306bcb",
   "metadata": {},
   "outputs": [
    {
     "data": {
      "text/plain": [
       "{1, 2, 3, 4, 5, 6, 7, 8, 9}"
      ]
     },
     "execution_count": 22,
     "metadata": {},
     "output_type": "execute_result"
    }
   ],
   "source": [
    "# To remove duplicate item in list convert list into 'set'\n",
    "\n",
    "l=[1,2,2,4,8,5,3,4,5,6,7,8,9]\n",
    "l1=set(l)\n",
    "l1"
   ]
  },
  {
   "cell_type": "code",
   "execution_count": 23,
   "id": "1f7f5745",
   "metadata": {},
   "outputs": [
    {
     "data": {
      "text/plain": [
       "{1, 2, 3, 4, 5, 6, 7, 8, 9}"
      ]
     },
     "execution_count": 23,
     "metadata": {},
     "output_type": "execute_result"
    }
   ],
   "source": [
    "l=[9,2,1,2,4,8,7,5,3,4,5,6,7,8,9]\n",
    "l2=set(l)\n",
    "l2"
   ]
  },
  {
   "cell_type": "code",
   "execution_count": 25,
   "id": "65d72160",
   "metadata": {},
   "outputs": [
    {
     "data": {
      "text/plain": [
       "45"
      ]
     },
     "execution_count": 25,
     "metadata": {},
     "output_type": "execute_result"
    }
   ],
   "source": [
    "l3=sum(l2)\n",
    "l3"
   ]
  },
  {
   "cell_type": "code",
   "execution_count": 26,
   "id": "54aee35d",
   "metadata": {},
   "outputs": [
    {
     "data": {
      "text/plain": [
       "9"
      ]
     },
     "execution_count": 26,
     "metadata": {},
     "output_type": "execute_result"
    }
   ],
   "source": [
    "max(l2)"
   ]
  },
  {
   "cell_type": "code",
   "execution_count": null,
   "id": "8260ffc3",
   "metadata": {},
   "outputs": [],
   "source": [
    "# function\n",
    "def say_hello():\n",
    "    print('hello!')"
   ]
  },
  {
   "cell_type": "code",
   "execution_count": 50,
   "id": "971439f4",
   "metadata": {},
   "outputs": [
    {
     "name": "stdout",
     "output_type": "stream",
     "text": [
      "hello!\n"
     ]
    }
   ],
   "source": [
    "say_hello()"
   ]
  },
  {
   "cell_type": "code",
   "execution_count": null,
   "id": "b9b38e8a",
   "metadata": {},
   "outputs": [],
   "source": [
    "# function\n",
    "\n",
    "def nick(name):\n",
    "    print('Hello,', name)\n"
   ]
  },
  {
   "cell_type": "code",
   "execution_count": null,
   "id": "c6d24ac1",
   "metadata": {},
   "outputs": [
    {
     "name": "stdout",
     "output_type": "stream",
     "text": [
      "Hello, pooja & Anuja\n"
     ]
    }
   ],
   "source": [
    "nick(\"pooja & Anuja\")"
   ]
  },
  {
   "cell_type": "code",
   "execution_count": null,
   "id": "947b0b0d",
   "metadata": {},
   "outputs": [
    {
     "data": {
      "text/plain": [
       "96"
      ]
     },
     "execution_count": 55,
     "metadata": {},
     "output_type": "execute_result"
    }
   ],
   "source": [
    "# function\n",
    "\n",
    "def add(a, b):\n",
    "    return a + b\n",
    "\n",
    "add(19,77)"
   ]
  },
  {
   "cell_type": "code",
   "execution_count": 66,
   "id": "8bf65751",
   "metadata": {},
   "outputs": [
    {
     "name": "stdout",
     "output_type": "stream",
     "text": [
      "Substraction is 1442\n"
     ]
    }
   ],
   "source": [
    "# function\n",
    "def sub(a,b):\n",
    "    print('Substraction is',  a-b)\n",
    "sub(2774,1332)"
   ]
  },
  {
   "cell_type": "code",
   "execution_count": 74,
   "id": "d244365c",
   "metadata": {},
   "outputs": [
    {
     "name": "stdout",
     "output_type": "stream",
     "text": [
      "hey yuvraj how are you\n"
     ]
    }
   ],
   "source": [
    "# function\n",
    "\n",
    "def fun():\n",
    "   print('hey yuvraj how are you')\n",
    "\n",
    "fun()"
   ]
  },
  {
   "cell_type": "code",
   "execution_count": 78,
   "id": "f28d59a9",
   "metadata": {},
   "outputs": [
    {
     "name": "stdout",
     "output_type": "stream",
     "text": [
      "Hello guys , how are you, my name is 'yuvraj' and i am a Data Analyst\n"
     ]
    }
   ],
   "source": [
    "# funtion\n",
    "\n",
    "def para():\n",
    "    print(\"Hello guys , how are you, my name is 'yuvraj' and i am a Data Analyst\")\n",
    "\n",
    "para()"
   ]
  },
  {
   "cell_type": "code",
   "execution_count": 85,
   "id": "7eb2cb50",
   "metadata": {},
   "outputs": [
    {
     "data": {
      "text/plain": [
       "14.6"
      ]
     },
     "execution_count": 85,
     "metadata": {},
     "output_type": "execute_result"
    }
   ],
   "source": [
    "# funtion \n",
    "\n",
    "def formula(a,b,c,d):\n",
    "    return(a+b/c+d)\n",
    "\n",
    "formula(4,8,5,9)"
   ]
  },
  {
   "cell_type": "code",
   "execution_count": 2,
   "id": "b564ccbf",
   "metadata": {},
   "outputs": [
    {
     "data": {
      "text/plain": [
       "[[1, 2, 3, 4, 5]]"
      ]
     },
     "execution_count": 2,
     "metadata": {},
     "output_type": "execute_result"
    }
   ],
   "source": [
    "# funtion \n",
    "def list(l):\n",
    "    return([l])\n",
    "list([1,2,3,4,5])"
   ]
  },
  {
   "cell_type": "code",
   "execution_count": 18,
   "id": "8824d3ae",
   "metadata": {},
   "outputs": [
    {
     "data": {
      "text/plain": [
       "{1, 2, 3, 4, 5}"
      ]
     },
     "execution_count": 18,
     "metadata": {},
     "output_type": "execute_result"
    }
   ],
   "source": [
    "# if i pass list into function it convert into the 'set'\n",
    "\n",
    "def convert(l):\n",
    "    return(set(l))\n",
    "               \n",
    "convert([1,2,3,4,5])"
   ]
  },
  {
   "cell_type": "code",
   "execution_count": 20,
   "id": "fbfa7699",
   "metadata": {},
   "outputs": [
    {
     "data": {
      "text/plain": [
       "{0, 1, 3, 4, 5, 6, 7, 8, 9}"
      ]
     },
     "execution_count": 20,
     "metadata": {},
     "output_type": "execute_result"
    }
   ],
   "source": [
    "convert([1,3,3,6,8,8,4,5,6,7,8,9,0])"
   ]
  },
  {
   "cell_type": "code",
   "execution_count": 21,
   "id": "0ea9967a",
   "metadata": {},
   "outputs": [
    {
     "data": {
      "text/plain": [
       "{1, 2, 3, 4, 5, 6, 7, 8, 9}"
      ]
     },
     "execution_count": 21,
     "metadata": {},
     "output_type": "execute_result"
    }
   ],
   "source": [
    "def convert(l):\n",
    "    return(set(l))\n",
    "               \n",
    "convert([1,2,3,4,5,5,8,9,6,4,6,7])"
   ]
  },
  {
   "cell_type": "code",
   "execution_count": 26,
   "id": "e4b84c4f",
   "metadata": {},
   "outputs": [
    {
     "data": {
      "text/plain": [
       "{1, 2, 3, 4, 5, 6, 7, 8, 9, 23, 34, 45, 67, 88}"
      ]
     },
     "execution_count": 26,
     "metadata": {},
     "output_type": "execute_result"
    }
   ],
   "source": [
    " def convert(l):\n",
    "    return(set(l))\n",
    "               \n",
    "convert([1,2,3,4,5,5,8,9,6,4,6,45,67,88,34,23,7])"
   ]
  },
  {
   "cell_type": "code",
   "execution_count": 27,
   "id": "752e2f2d",
   "metadata": {},
   "outputs": [
    {
     "data": {
      "text/plain": [
       "8"
      ]
     },
     "execution_count": 27,
     "metadata": {},
     "output_type": "execute_result"
    }
   ],
   "source": [
    "def double(x):\n",
    "    return(x*2)\n",
    "double(4)"
   ]
  },
  {
   "cell_type": "code",
   "execution_count": 29,
   "id": "6aef34bc",
   "metadata": {},
   "outputs": [
    {
     "name": "stdout",
     "output_type": "stream",
     "text": [
      "['apple', 'ball', 'dog', 'fox', 'light', 'sheep']\n"
     ]
    }
   ],
   "source": [
    "l=['ball','fox','dog','sheep','apple','light']\n",
    "l.sort()\n",
    "print(l)"
   ]
  },
  {
   "cell_type": "code",
   "execution_count": 48,
   "id": "7351a051",
   "metadata": {},
   "outputs": [
    {
     "name": "stdout",
     "output_type": "stream",
     "text": [
      "58\n"
     ]
    }
   ],
   "source": [
    "l=[1,2,3,4,5,5,58,54,55,78,55,33,6,7,8,9]\n",
    "l.sort()\n",
    "print(l[-2])"
   ]
  },
  {
   "cell_type": "code",
   "execution_count": 57,
   "id": "ae826090",
   "metadata": {},
   "outputs": [],
   "source": [
    "l=[1,2,3,4,5,5,58,54,55,78,55,33,6,7,8,9]\n",
    "l.sort()"
   ]
  },
  {
   "cell_type": "code",
   "execution_count": 58,
   "id": "69b1f06c",
   "metadata": {},
   "outputs": [
    {
     "name": "stdout",
     "output_type": "stream",
     "text": [
      "[1, 2, 3, 4, 5, 5, 6, 7, 8, 9, 33, 54, 55, 55, 58, 78]\n"
     ]
    }
   ],
   "source": [
    "print(l)"
   ]
  },
  {
   "cell_type": "code",
   "execution_count": 59,
   "id": "21d17087",
   "metadata": {},
   "outputs": [
    {
     "data": {
      "text/plain": [
       "58"
      ]
     },
     "execution_count": 59,
     "metadata": {},
     "output_type": "execute_result"
    }
   ],
   "source": [
    "l[-2]"
   ]
  },
  {
   "cell_type": "code",
   "execution_count": null,
   "id": "950218c2",
   "metadata": {},
   "outputs": [],
   "source": []
  }
 ],
 "metadata": {
  "kernelspec": {
   "display_name": "Python 3",
   "language": "python",
   "name": "python3"
  },
  "language_info": {
   "codemirror_mode": {
    "name": "ipython",
    "version": 3
   },
   "file_extension": ".py",
   "mimetype": "text/x-python",
   "name": "python",
   "nbconvert_exporter": "python",
   "pygments_lexer": "ipython3",
   "version": "3.13.0"
  }
 },
 "nbformat": 4,
 "nbformat_minor": 5
}
